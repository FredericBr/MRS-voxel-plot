{
 "cells": [
  {
   "cell_type": "markdown",
   "metadata": {},
   "source": [
    "# Creating figures for data from a single group\n",
    "\n",
    "## Required data \n",
    "\n",
    "Each participant should have a separate folder where their spectra and MRS voxels should be stored. The folders should be arranged as follows:\n",
    "\n",
    "```\n",
    "project_folder\n",
    "|   participants.tsv\n",
    "|\n",
    "└───data_folder\n",
    "    |    \n",
    "    └───sub-01\n",
    "    |   |    sub-01_spectrum.tsv\n",
    "    |   |    sub-01_spectrum_frequencies.tsv\n",
    "    |   |    sub-01_mrs-voxel_mni-space.nii.gz\n",
    "    |   |    ...\n",
    "    |\n",
    "    └───sub-02\n",
    "    |   |    sub-02_spectrum.tsv\n",
    "    |   |    sub-02_spectrum_frequencies.tsv\n",
    "    |   |    sub-02_mrs-voxel_mni-space.nii.gz\n",
    "    |   |    ...\n",
    "    |\n",
    "    |...\n",
    "```\n",
    "\n",
    "Participant IDs should be contained in the participants.tsv file. They should be in a column entitled \"participant_id\".  \n",
    "\n",
    "Spectrum files should contain a single column with the preprocessed MRS spectra that you wish to display. The related frequencies file should contain a single column with the corresponding frequencies in PPM. \n",
    "\n",
    "In this example we use a MEGA-PRESS difference spectra created with the Gannet toolbox (http://www.gabamrs.com/). In the case of Gannet, these files must be written out from the data file created during the analysis. This step will differ depending on the analysis tools that you are using. \n",
    "\n",
    "MRS voxels should be in compressed NIFTI format. These should have been aligned to the MNI152 standard space with a 2mm resolution. \n",
    "\n",
    "\n",
    "## Make a voxel overlap image\n",
    "\n",
    "First define the directories and files to be used and load in the participant IDs."
   ]
  },
  {
   "cell_type": "code",
   "execution_count": null,
   "metadata": {},
   "outputs": [],
   "source": [
    "import os\n",
    "import numpy as np\n",
    "import pandas as pd\n",
    "\n",
    "# Project directory\n",
    "data_dir = '~/work/MRS-voxel-plot/how-to/'\n",
    "\n",
    "# Directory to create figures in\n",
    "fig_dir = os.path.join(data_dir,'figures')\n",
    "\n",
    "# Check if this figure directory exists, and if not create it\n",
    "if not os.path.isdir(fig_dir):\n",
    "  os.mkdir(fig_dir)\n",
    "\n"
   ]
  }
 ],
 "metadata": {
  "kernelspec": {
   "display_name": "Python 3",
   "language": "python",
   "name": "python3"
  },
  "language_info": {
   "codemirror_mode": {
    "name": "ipython",
    "version": 3
   },
   "file_extension": ".py",
   "mimetype": "text/x-python",
   "name": "python",
   "nbconvert_exporter": "python",
   "pygments_lexer": "ipython3",
   "version": "3.7.6"
  }
 },
 "nbformat": 4,
 "nbformat_minor": 4
}
