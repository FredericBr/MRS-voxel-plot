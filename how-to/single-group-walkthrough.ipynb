{
 "cells": [
  {
   "cell_type": "markdown",
   "metadata": {},
   "source": [
    "# Creating figures for data from a single group\n",
    "\n",
    "## Required data \n",
    "\n",
    "Each participant should have a separate folder where their spectra and MRS voxels should be stored. The folders should be arranged as follows:\n",
    "\n",
    "```\n",
    "project_folder\n",
    "|   participants.tsv\n",
    "|\n",
    "└───data_folder\n",
    "    |    \n",
    "    └───sub-01\n",
    "    |   |    spectrum.tsv\n",
    "    |   |    spectrum_frequencies.tsv\n",
    "    |   |    mrs-voxel_mni-space.nii.gz\n",
    "    |   |    ...\n",
    "    |\n",
    "    └───sub-02\n",
    "    |   |    spectrum.tsv\n",
    "    |   |    spectrum_frequencies.tsv\n",
    "    |   |    mrs-voxel_mni-space.nii.gz\n",
    "    |   |    ...\n",
    "    |\n",
    "    |...\n",
    "```\n",
    "\n",
    "Participant IDs should be contained in the participants.tsv file. They should be in a column entitled \"participant_id\".  \n",
    "\n",
    "Spectrum files should contain a single column with the preprocessed MRS spectra that you wish to display. The related frequencies file should contain a single column with the corresponding frequencies in PPM. \n",
    "\n",
    "In this example we use a MEGA-PRESS difference spectra created with the Gannet toolbox (http://www.gabamrs.com/). In the case of Gannet, these files must be written out from the data file created during the analysis. This step will differ depending on the analysis tools that you are using. \n",
    "\n",
    "MRS voxels should be in compressed NIFTI format. These should have been aligned to the MNI152 standard space with a 2mm resolution. \n",
    "\n",
    "\n",
    "## Make a voxel overlap image\n",
    "\n",
    "First define the directories and files to be used and load in the participant IDs."
   ]
  },
  {
   "cell_type": "code",
   "execution_count": 2,
   "metadata": {},
   "outputs": [],
   "source": [
    "import os\n",
    "import numpy as np\n",
    "import pandas as pd\n",
    "\n",
    "# Project directory\n",
    "data_dir = '/home/niall/work/MRS-voxel-plot/how-to/'\n",
    "\n",
    "# Directory to create figures in\n",
    "fig_dir = os.path.join(data_dir,'figures')\n",
    "\n",
    "# Check if this figure directory exists, and if not create it\n",
    "if not os.path.isdir(fig_dir):\n",
    "    os.mkdir(fig_dir)\n",
    "    \n",
    "# Define the column in which participant IDs are stored in the tsv file\n",
    "ID_header = 'participant_id'\n",
    "\n",
    "# Load in the participant IDs\n",
    "subjects = pd.read_csv(data_dir+'participants.tsv', delimiter='\\t')[ID_header]\n",
    "n_subs = len(subjects)\n",
    "\n",
    "# Define the voxel mask filename\n",
    "mask_name = 'mrs-voxel_mni-space.nii.gz'"
   ]
  },
  {
   "cell_type": "markdown",
   "metadata": {},
   "source": [
    "To create the overlap image we first need to establish the image dimensions and the affine matrix that defines its orientation. "
   ]
  },
  {
   "cell_type": "code",
   "execution_count": 6,
   "metadata": {},
   "outputs": [
    {
     "name": "stdout",
     "output_type": "stream",
     "text": [
      "Variable    Type      Data/Info\n",
      "-------------------------------\n",
      "ID_header   str       participant_id\n",
      "data_dir    str       /home/niall/work/MRS-voxel-plot/how-to/\n",
      "fig_dir     str       /home/niall/work/MRS-voxel-plot/how-to/figures\n",
      "freq_file   str       spectrum_frequencies.txt\n",
      "n_subs      int       24\n",
      "np          module    <module 'numpy' from '/ho<...>kages/numpy/__init__.py'>\n",
      "os          module    <module 'os' from '/home/<...>da3/lib/python3.7/os.py'>\n",
      "pd          module    <module 'pandas' from '/h<...>ages/pandas/__init__.py'>\n",
      "spec_file   str       spectrum.txt\n",
      "subjects    Series    0     sub-01\\n1     sub-0<...>icipant_id, dtype: object\n"
     ]
    }
   ],
   "source": [
    "import nibabel as ni\n",
    "\n",
    "# Use the first subject as an examplar for the dimensions and matrix\n",
    "def get_mask_info(fpath):\n",
    "    tmp = ni.load(fpath)\n",
    "    aff = tmp.affine\n",
    "    dims = tmp.shape\n",
    "    return(aff,dims)\n",
    "\n",
    "mask_file = os.path.join(data_dir,'example-data',subjects[0],mask_name)\n",
    "mask_aff, mask_dims = get_mask_info()"
   ]
  }
 ],
 "metadata": {
  "kernelspec": {
   "display_name": "Python 3",
   "language": "python",
   "name": "python3"
  },
  "language_info": {
   "codemirror_mode": {
    "name": "ipython",
    "version": 3
   },
   "file_extension": ".py",
   "mimetype": "text/x-python",
   "name": "python",
   "nbconvert_exporter": "python",
   "pygments_lexer": "ipython3",
   "version": "3.7.6"
  }
 },
 "nbformat": 4,
 "nbformat_minor": 4
}
